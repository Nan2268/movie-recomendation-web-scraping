{
  "cells": [
    {
      "cell_type": "markdown",
      "metadata": {
        "id": "view-in-github",
        "colab_type": "text"
      },
      "source": [
        "<a href=\"https://colab.research.google.com/github/Nan2268/movie-recomendation-web-scraping/blob/main/Movie__recomendation__web_scrapping_project.ipynb\" target=\"_parent\"><img src=\"https://colab.research.google.com/assets/colab-badge.svg\" alt=\"Open In Colab\"/></a>"
      ]
    },
    {
      "cell_type": "code",
      "execution_count": 6,
      "metadata": {
        "colab": {
          "base_uri": "https://localhost:8080/"
        },
        "id": "57VOPaaurRG_",
        "outputId": "561d6dd6-9397-4347-8042-641c61c624ab",
        "collapsed": true
      },
      "outputs": [
        {
          "output_type": "stream",
          "name": "stdout",
          "text": [
            "Collecting bs4\n",
            "  Downloading bs4-0.0.2-py2.py3-none-any.whl.metadata (411 bytes)\n",
            "Requirement already satisfied: beautifulsoup4 in /usr/local/lib/python3.10/dist-packages (from bs4) (4.12.3)\n",
            "Requirement already satisfied: soupsieve>1.2 in /usr/local/lib/python3.10/dist-packages (from beautifulsoup4->bs4) (2.6)\n",
            "Downloading bs4-0.0.2-py2.py3-none-any.whl (1.2 kB)\n",
            "Installing collected packages: bs4\n",
            "Successfully installed bs4-0.0.2\n"
          ]
        }
      ],
      "source": [
        "! pip install bs4"
      ]
    },
    {
      "cell_type": "code",
      "execution_count": 2,
      "metadata": {
        "colab": {
          "base_uri": "https://localhost:8080/"
        },
        "id": "vFO55xIltU0X",
        "outputId": "d896c30b-52ef-4763-9e4b-3866847040f4",
        "collapsed": true
      },
      "outputs": [
        {
          "output_type": "stream",
          "name": "stdout",
          "text": [
            "Requirement already satisfied: requests in /usr/local/lib/python3.10/dist-packages (2.32.3)\n",
            "Requirement already satisfied: charset-normalizer<4,>=2 in /usr/local/lib/python3.10/dist-packages (from requests) (3.3.2)\n",
            "Requirement already satisfied: idna<4,>=2.5 in /usr/local/lib/python3.10/dist-packages (from requests) (3.7)\n",
            "Requirement already satisfied: urllib3<3,>=1.21.1 in /usr/local/lib/python3.10/dist-packages (from requests) (2.0.7)\n",
            "Requirement already satisfied: certifi>=2017.4.17 in /usr/local/lib/python3.10/dist-packages (from requests) (2024.7.4)\n",
            "\u001b[31mERROR: Operation cancelled by user\u001b[0m\u001b[31m\n",
            "\u001b[0m"
          ]
        }
      ],
      "source": [
        "! pip install requests"
      ]
    },
    {
      "cell_type": "code",
      "execution_count": 3,
      "metadata": {
        "colab": {
          "base_uri": "https://localhost:8080/"
        },
        "id": "6nnD1Wi2tZ7-",
        "outputId": "385d200a-8a37-4577-d278-b444450d23c5",
        "collapsed": true
      },
      "outputs": [
        {
          "output_type": "stream",
          "name": "stdout",
          "text": [
            "Requirement already satisfied: pandas in /usr/local/lib/python3.10/dist-packages (2.1.4)\n",
            "Requirement already satisfied: numpy<2,>=1.22.4 in /usr/local/lib/python3.10/dist-packages (from pandas) (1.26.4)\n",
            "Requirement already satisfied: python-dateutil>=2.8.2 in /usr/local/lib/python3.10/dist-packages (from pandas) (2.8.2)\n",
            "Requirement already satisfied: pytz>=2020.1 in /usr/local/lib/python3.10/dist-packages (from pandas) (2024.1)\n",
            "Requirement already satisfied: tzdata>=2022.1 in /usr/local/lib/python3.10/dist-packages (from pandas) (2024.1)\n",
            "Requirement already satisfied: six>=1.5 in /usr/local/lib/python3.10/dist-packages (from python-dateutil>=2.8.2->pandas) (1.16.0)\n"
          ]
        }
      ],
      "source": [
        "! pip install pandas"
      ]
    },
    {
      "cell_type": "code",
      "execution_count": 4,
      "metadata": {
        "id": "inv--FA4teCi"
      },
      "outputs": [],
      "source": [
        "from bs4 import BeautifulSoup\n",
        "import requests\n",
        "import pandas as pd\n",
        "import numpy as np"
      ]
    },
    {
      "cell_type": "code",
      "execution_count": 5,
      "metadata": {
        "id": "m-PoHvtrvIac"
      },
      "outputs": [],
      "source": [
        "\n",
        "#requesting page source from url\n",
        "\n",
        "HEADERS = {'User-Agent': 'Mozilla/5.0 (Windows NT 10.0; Win64; x64) AppleWebKit/537.36 (KHTML, like Gecko) Chrome/126.0.0.0 Safari/537.36','Accept-Language': 'en-US, en;q=0.5'}\n",
        "url = \"https://www.imdb.com/chart/top/\"\n",
        "webpage = requests.get(url, headers=HEADERS)"
      ]
    },
    {
      "cell_type": "code",
      "execution_count": 7,
      "metadata": {
        "colab": {
          "base_uri": "https://localhost:8080/"
        },
        "id": "QJo-VXjoAudk",
        "outputId": "4df79c74-afe5-4cc3-a1e4-11907706ffac"
      },
      "outputs": [
        {
          "output_type": "stream",
          "name": "stdout",
          "text": [
            "<Response [200]>\n"
          ]
        }
      ],
      "source": [
        "print(webpage)"
      ]
    },
    {
      "cell_type": "code",
      "execution_count": null,
      "metadata": {
        "id": "Et2KhjdOivcZ"
      },
      "outputs": [],
      "source": []
    },
    {
      "cell_type": "code",
      "execution_count": 8,
      "metadata": {
        "id": "OyQ96hGEGN2V",
        "collapsed": true
      },
      "outputs": [],
      "source": [
        "# Soup Object containing all data\n",
        "soup = BeautifulSoup(webpage.content, \"html.parser\")\n",
        "#print(soup.prettify())\n",
        "links = soup.find_all(\"a\", attrs={'class':'ipc-title-link-wrapper'})\n",
        "movies = []\n",
        "for movie in links:\n",
        "    movie = movie.get_text().replace('\\n', \"\")\n",
        "    movie = movie.strip(\" \")\n",
        "    movies.append(movie)"
      ]
    },
    {
      "cell_type": "code",
      "source": [
        "scraped_ratings = soup.find_all('span', attrs={ 'data-testid':'ratingGroup--imdb-rating'})\n"
      ],
      "metadata": {
        "id": "w3g88BUj7xCQ"
      },
      "execution_count": 9,
      "outputs": []
    },
    {
      "cell_type": "code",
      "source": [
        "scraped_ratings"
      ],
      "metadata": {
        "colab": {
          "base_uri": "https://localhost:8080/"
        },
        "collapsed": true,
        "id": "ROeyoiWE9AS8",
        "outputId": "aa61a791-3330-41ee-84e8-a29cf3a392e4"
      },
      "execution_count": 10,
      "outputs": [
        {
          "output_type": "execute_result",
          "data": {
            "text/plain": [
              "[<span aria-label=\"IMDb rating: 9.3\" class=\"ipc-rating-star ipc-rating-star--base ipc-rating-star--imdb ratingGroup--imdb-rating\" data-testid=\"ratingGroup--imdb-rating\"><svg class=\"ipc-icon ipc-icon--star-inline\" fill=\"currentColor\" height=\"24\" role=\"presentation\" viewbox=\"0 0 24 24\" width=\"24\" xmlns=\"http://www.w3.org/2000/svg\"><path d=\"M12 20.1l5.82 3.682c1.066.675 2.37-.322 2.09-1.584l-1.543-6.926 5.146-4.667c.94-.85.435-2.465-.799-2.567l-6.773-.602L13.29.89a1.38 1.38 0 0 0-2.581 0l-2.65 6.53-6.774.602C.052 8.126-.453 9.74.486 10.59l5.147 4.666-1.542 6.926c-.28 1.262 1.023 2.26 2.09 1.585L12 20.099z\"></path></svg><span class=\"ipc-rating-star--rating\">9.3</span><span class=\"ipc-rating-star--voteCount\"> (<!-- -->2.9M<!-- -->)</span></span>,\n",
              " <span aria-label=\"IMDb rating: 9.2\" class=\"ipc-rating-star ipc-rating-star--base ipc-rating-star--imdb ratingGroup--imdb-rating\" data-testid=\"ratingGroup--imdb-rating\"><svg class=\"ipc-icon ipc-icon--star-inline\" fill=\"currentColor\" height=\"24\" role=\"presentation\" viewbox=\"0 0 24 24\" width=\"24\" xmlns=\"http://www.w3.org/2000/svg\"><path d=\"M12 20.1l5.82 3.682c1.066.675 2.37-.322 2.09-1.584l-1.543-6.926 5.146-4.667c.94-.85.435-2.465-.799-2.567l-6.773-.602L13.29.89a1.38 1.38 0 0 0-2.581 0l-2.65 6.53-6.774.602C.052 8.126-.453 9.74.486 10.59l5.147 4.666-1.542 6.926c-.28 1.262 1.023 2.26 2.09 1.585L12 20.099z\"></path></svg><span class=\"ipc-rating-star--rating\">9.2</span><span class=\"ipc-rating-star--voteCount\"> (<!-- -->2M<!-- -->)</span></span>,\n",
              " <span aria-label=\"IMDb rating: 9.0\" class=\"ipc-rating-star ipc-rating-star--base ipc-rating-star--imdb ratingGroup--imdb-rating\" data-testid=\"ratingGroup--imdb-rating\"><svg class=\"ipc-icon ipc-icon--star-inline\" fill=\"currentColor\" height=\"24\" role=\"presentation\" viewbox=\"0 0 24 24\" width=\"24\" xmlns=\"http://www.w3.org/2000/svg\"><path d=\"M12 20.1l5.82 3.682c1.066.675 2.37-.322 2.09-1.584l-1.543-6.926 5.146-4.667c.94-.85.435-2.465-.799-2.567l-6.773-.602L13.29.89a1.38 1.38 0 0 0-2.581 0l-2.65 6.53-6.774.602C.052 8.126-.453 9.74.486 10.59l5.147 4.666-1.542 6.926c-.28 1.262 1.023 2.26 2.09 1.585L12 20.099z\"></path></svg><span class=\"ipc-rating-star--rating\">9.0</span><span class=\"ipc-rating-star--voteCount\"> (<!-- -->2.9M<!-- -->)</span></span>,\n",
              " <span aria-label=\"IMDb rating: 9.0\" class=\"ipc-rating-star ipc-rating-star--base ipc-rating-star--imdb ratingGroup--imdb-rating\" data-testid=\"ratingGroup--imdb-rating\"><svg class=\"ipc-icon ipc-icon--star-inline\" fill=\"currentColor\" height=\"24\" role=\"presentation\" viewbox=\"0 0 24 24\" width=\"24\" xmlns=\"http://www.w3.org/2000/svg\"><path d=\"M12 20.1l5.82 3.682c1.066.675 2.37-.322 2.09-1.584l-1.543-6.926 5.146-4.667c.94-.85.435-2.465-.799-2.567l-6.773-.602L13.29.89a1.38 1.38 0 0 0-2.581 0l-2.65 6.53-6.774.602C.052 8.126-.453 9.74.486 10.59l5.147 4.666-1.542 6.926c-.28 1.262 1.023 2.26 2.09 1.585L12 20.099z\"></path></svg><span class=\"ipc-rating-star--rating\">9.0</span><span class=\"ipc-rating-star--voteCount\"> (<!-- -->1.4M<!-- -->)</span></span>,\n",
              " <span aria-label=\"IMDb rating: 9.0\" class=\"ipc-rating-star ipc-rating-star--base ipc-rating-star--imdb ratingGroup--imdb-rating\" data-testid=\"ratingGroup--imdb-rating\"><svg class=\"ipc-icon ipc-icon--star-inline\" fill=\"currentColor\" height=\"24\" role=\"presentation\" viewbox=\"0 0 24 24\" width=\"24\" xmlns=\"http://www.w3.org/2000/svg\"><path d=\"M12 20.1l5.82 3.682c1.066.675 2.37-.322 2.09-1.584l-1.543-6.926 5.146-4.667c.94-.85.435-2.465-.799-2.567l-6.773-.602L13.29.89a1.38 1.38 0 0 0-2.581 0l-2.65 6.53-6.774.602C.052 8.126-.453 9.74.486 10.59l5.147 4.666-1.542 6.926c-.28 1.262 1.023 2.26 2.09 1.585L12 20.099z\"></path></svg><span class=\"ipc-rating-star--rating\">9.0</span><span class=\"ipc-rating-star--voteCount\"> (<!-- -->881K<!-- -->)</span></span>,\n",
              " <span aria-label=\"IMDb rating: 9.0\" class=\"ipc-rating-star ipc-rating-star--base ipc-rating-star--imdb ratingGroup--imdb-rating\" data-testid=\"ratingGroup--imdb-rating\"><svg class=\"ipc-icon ipc-icon--star-inline\" fill=\"currentColor\" height=\"24\" role=\"presentation\" viewbox=\"0 0 24 24\" width=\"24\" xmlns=\"http://www.w3.org/2000/svg\"><path d=\"M12 20.1l5.82 3.682c1.066.675 2.37-.322 2.09-1.584l-1.543-6.926 5.146-4.667c.94-.85.435-2.465-.799-2.567l-6.773-.602L13.29.89a1.38 1.38 0 0 0-2.581 0l-2.65 6.53-6.774.602C.052 8.126-.453 9.74.486 10.59l5.147 4.666-1.542 6.926c-.28 1.262 1.023 2.26 2.09 1.585L12 20.099z\"></path></svg><span class=\"ipc-rating-star--rating\">9.0</span><span class=\"ipc-rating-star--voteCount\"> (<!-- -->1.5M<!-- -->)</span></span>,\n",
              " <span aria-label=\"IMDb rating: 9.0\" class=\"ipc-rating-star ipc-rating-star--base ipc-rating-star--imdb ratingGroup--imdb-rating\" data-testid=\"ratingGroup--imdb-rating\"><svg class=\"ipc-icon ipc-icon--star-inline\" fill=\"currentColor\" height=\"24\" role=\"presentation\" viewbox=\"0 0 24 24\" width=\"24\" xmlns=\"http://www.w3.org/2000/svg\"><path d=\"M12 20.1l5.82 3.682c1.066.675 2.37-.322 2.09-1.584l-1.543-6.926 5.146-4.667c.94-.85.435-2.465-.799-2.567l-6.773-.602L13.29.89a1.38 1.38 0 0 0-2.581 0l-2.65 6.53-6.774.602C.052 8.126-.453 9.74.486 10.59l5.147 4.666-1.542 6.926c-.28 1.262 1.023 2.26 2.09 1.585L12 20.099z\"></path></svg><span class=\"ipc-rating-star--rating\">9.0</span><span class=\"ipc-rating-star--voteCount\"> (<!-- -->2M<!-- -->)</span></span>,\n",
              " <span aria-label=\"IMDb rating: 8.9\" class=\"ipc-rating-star ipc-rating-star--base ipc-rating-star--imdb ratingGroup--imdb-rating\" data-testid=\"ratingGroup--imdb-rating\"><svg class=\"ipc-icon ipc-icon--star-inline\" fill=\"currentColor\" height=\"24\" role=\"presentation\" viewbox=\"0 0 24 24\" width=\"24\" xmlns=\"http://www.w3.org/2000/svg\"><path d=\"M12 20.1l5.82 3.682c1.066.675 2.37-.322 2.09-1.584l-1.543-6.926 5.146-4.667c.94-.85.435-2.465-.799-2.567l-6.773-.602L13.29.89a1.38 1.38 0 0 0-2.581 0l-2.65 6.53-6.774.602C.052 8.126-.453 9.74.486 10.59l5.147 4.666-1.542 6.926c-.28 1.262 1.023 2.26 2.09 1.585L12 20.099z\"></path></svg><span class=\"ipc-rating-star--rating\">8.9</span><span class=\"ipc-rating-star--voteCount\"> (<!-- -->2.3M<!-- -->)</span></span>,\n",
              " <span aria-label=\"IMDb rating: 8.9\" class=\"ipc-rating-star ipc-rating-star--base ipc-rating-star--imdb ratingGroup--imdb-rating\" data-testid=\"ratingGroup--imdb-rating\"><svg class=\"ipc-icon ipc-icon--star-inline\" fill=\"currentColor\" height=\"24\" role=\"presentation\" viewbox=\"0 0 24 24\" width=\"24\" xmlns=\"http://www.w3.org/2000/svg\"><path d=\"M12 20.1l5.82 3.682c1.066.675 2.37-.322 2.09-1.584l-1.543-6.926 5.146-4.667c.94-.85.435-2.465-.799-2.567l-6.773-.602L13.29.89a1.38 1.38 0 0 0-2.581 0l-2.65 6.53-6.774.602C.052 8.126-.453 9.74.486 10.59l5.147 4.666-1.542 6.926c-.28 1.262 1.023 2.26 2.09 1.585L12 20.099z\"></path></svg><span class=\"ipc-rating-star--rating\">8.9</span><span class=\"ipc-rating-star--voteCount\"> (<!-- -->2M<!-- -->)</span></span>,\n",
              " <span aria-label=\"IMDb rating: 8.8\" class=\"ipc-rating-star ipc-rating-star--base ipc-rating-star--imdb ratingGroup--imdb-rating\" data-testid=\"ratingGroup--imdb-rating\"><svg class=\"ipc-icon ipc-icon--star-inline\" fill=\"currentColor\" height=\"24\" role=\"presentation\" viewbox=\"0 0 24 24\" width=\"24\" xmlns=\"http://www.w3.org/2000/svg\"><path d=\"M12 20.1l5.82 3.682c1.066.675 2.37-.322 2.09-1.584l-1.543-6.926 5.146-4.667c.94-.85.435-2.465-.799-2.567l-6.773-.602L13.29.89a1.38 1.38 0 0 0-2.581 0l-2.65 6.53-6.774.602C.052 8.126-.453 9.74.486 10.59l5.147 4.666-1.542 6.926c-.28 1.262 1.023 2.26 2.09 1.585L12 20.099z\"></path></svg><span class=\"ipc-rating-star--rating\">8.8</span><span class=\"ipc-rating-star--voteCount\"> (<!-- -->822K<!-- -->)</span></span>,\n",
              " <span aria-label=\"IMDb rating: 8.8\" class=\"ipc-rating-star ipc-rating-star--base ipc-rating-star--imdb ratingGroup--imdb-rating\" data-testid=\"ratingGroup--imdb-rating\"><svg class=\"ipc-icon ipc-icon--star-inline\" fill=\"currentColor\" height=\"24\" role=\"presentation\" viewbox=\"0 0 24 24\" width=\"24\" xmlns=\"http://www.w3.org/2000/svg\"><path d=\"M12 20.1l5.82 3.682c1.066.675 2.37-.322 2.09-1.584l-1.543-6.926 5.146-4.667c.94-.85.435-2.465-.799-2.567l-6.773-.602L13.29.89a1.38 1.38 0 0 0-2.581 0l-2.65 6.53-6.774.602C.052 8.126-.453 9.74.486 10.59l5.147 4.666-1.542 6.926c-.28 1.262 1.023 2.26 2.09 1.585L12 20.099z\"></path></svg><span class=\"ipc-rating-star--rating\">8.8</span><span class=\"ipc-rating-star--voteCount\"> (<!-- -->2.3M<!-- -->)</span></span>,\n",
              " <span aria-label=\"IMDb rating: 8.8\" class=\"ipc-rating-star ipc-rating-star--base ipc-rating-star--imdb ratingGroup--imdb-rating\" data-testid=\"ratingGroup--imdb-rating\"><svg class=\"ipc-icon ipc-icon--star-inline\" fill=\"currentColor\" height=\"24\" role=\"presentation\" viewbox=\"0 0 24 24\" width=\"24\" xmlns=\"http://www.w3.org/2000/svg\"><path d=\"M12 20.1l5.82 3.682c1.066.675 2.37-.322 2.09-1.584l-1.543-6.926 5.146-4.667c.94-.85.435-2.465-.799-2.567l-6.773-.602L13.29.89a1.38 1.38 0 0 0-2.581 0l-2.65 6.53-6.774.602C.052 8.126-.453 9.74.486 10.59l5.147 4.666-1.542 6.926c-.28 1.262 1.023 2.26 2.09 1.585L12 20.099z\"></path></svg><span class=\"ipc-rating-star--rating\">8.8</span><span class=\"ipc-rating-star--voteCount\"> (<!-- -->1.8M<!-- -->)</span></span>,\n",
              " <span aria-label=\"IMDb rating: 8.8\" class=\"ipc-rating-star ipc-rating-star--base ipc-rating-star--imdb ratingGroup--imdb-rating\" data-testid=\"ratingGroup--imdb-rating\"><svg class=\"ipc-icon ipc-icon--star-inline\" fill=\"currentColor\" height=\"24\" role=\"presentation\" viewbox=\"0 0 24 24\" width=\"24\" xmlns=\"http://www.w3.org/2000/svg\"><path d=\"M12 20.1l5.82 3.682c1.066.675 2.37-.322 2.09-1.584l-1.543-6.926 5.146-4.667c.94-.85.435-2.465-.799-2.567l-6.773-.602L13.29.89a1.38 1.38 0 0 0-2.581 0l-2.65 6.53-6.774.602C.052 8.126-.453 9.74.486 10.59l5.147 4.666-1.542 6.926c-.28 1.262 1.023 2.26 2.09 1.585L12 20.099z\"></path></svg><span class=\"ipc-rating-star--rating\">8.8</span><span class=\"ipc-rating-star--voteCount\"> (<!-- -->2.4M<!-- -->)</span></span>,\n",
              " <span aria-label=\"IMDb rating: 8.8\" class=\"ipc-rating-star ipc-rating-star--base ipc-rating-star--imdb ratingGroup--imdb-rating\" data-testid=\"ratingGroup--imdb-rating\"><svg class=\"ipc-icon ipc-icon--star-inline\" fill=\"currentColor\" height=\"24\" role=\"presentation\" viewbox=\"0 0 24 24\" width=\"24\" xmlns=\"http://www.w3.org/2000/svg\"><path d=\"M12 20.1l5.82 3.682c1.066.675 2.37-.322 2.09-1.584l-1.543-6.926 5.146-4.667c.94-.85.435-2.465-.799-2.567l-6.773-.602L13.29.89a1.38 1.38 0 0 0-2.581 0l-2.65 6.53-6.774.602C.052 8.126-.453 9.74.486 10.59l5.147 4.666-1.542 6.926c-.28 1.262 1.023 2.26 2.09 1.585L12 20.099z\"></path></svg><span class=\"ipc-rating-star--rating\">8.8</span><span class=\"ipc-rating-star--voteCount\"> (<!-- -->2.6M<!-- -->)</span></span>,\n",
              " <span aria-label=\"IMDb rating: 8.7\" class=\"ipc-rating-star ipc-rating-star--base ipc-rating-star--imdb ratingGroup--imdb-rating\" data-testid=\"ratingGroup--imdb-rating\"><svg class=\"ipc-icon ipc-icon--star-inline\" fill=\"currentColor\" height=\"24\" role=\"presentation\" viewbox=\"0 0 24 24\" width=\"24\" xmlns=\"http://www.w3.org/2000/svg\"><path d=\"M12 20.1l5.82 3.682c1.066.675 2.37-.322 2.09-1.584l-1.543-6.926 5.146-4.667c.94-.85.435-2.465-.799-2.567l-6.773-.602L13.29.89a1.38 1.38 0 0 0-2.581 0l-2.65 6.53-6.774.602C.052 8.126-.453 9.74.486 10.59l5.147 4.666-1.542 6.926c-.28 1.262 1.023 2.26 2.09 1.585L12 20.099z\"></path></svg><span class=\"ipc-rating-star--rating\">8.7</span><span class=\"ipc-rating-star--voteCount\"> (<!-- -->1.4M<!-- -->)</span></span>,\n",
              " <span aria-label=\"IMDb rating: 8.7\" class=\"ipc-rating-star ipc-rating-star--base ipc-rating-star--imdb ratingGroup--imdb-rating\" data-testid=\"ratingGroup--imdb-rating\"><svg class=\"ipc-icon ipc-icon--star-inline\" fill=\"currentColor\" height=\"24\" role=\"presentation\" viewbox=\"0 0 24 24\" width=\"24\" xmlns=\"http://www.w3.org/2000/svg\"><path d=\"M12 20.1l5.82 3.682c1.066.675 2.37-.322 2.09-1.584l-1.543-6.926 5.146-4.667c.94-.85.435-2.465-.799-2.567l-6.773-.602L13.29.89a1.38 1.38 0 0 0-2.581 0l-2.65 6.53-6.774.602C.052 8.126-.453 9.74.486 10.59l5.147 4.666-1.542 6.926c-.28 1.262 1.023 2.26 2.09 1.585L12 20.099z\"></path></svg><span class=\"ipc-rating-star--rating\">8.7</span><span class=\"ipc-rating-star--voteCount\"> (<!-- -->2.1M<!-- -->)</span></span>,\n",
              " <span aria-label=\"IMDb rating: 8.7\" class=\"ipc-rating-star ipc-rating-star--base ipc-rating-star--imdb ratingGroup--imdb-rating\" data-testid=\"ratingGroup--imdb-rating\"><svg class=\"ipc-icon ipc-icon--star-inline\" fill=\"currentColor\" height=\"24\" role=\"presentation\" viewbox=\"0 0 24 24\" width=\"24\" xmlns=\"http://www.w3.org/2000/svg\"><path d=\"M12 20.1l5.82 3.682c1.066.675 2.37-.322 2.09-1.584l-1.543-6.926 5.146-4.667c.94-.85.435-2.465-.799-2.567l-6.773-.602L13.29.89a1.38 1.38 0 0 0-2.581 0l-2.65 6.53-6.774.602C.052 8.126-.453 9.74.486 10.59l5.147 4.666-1.542 6.926c-.28 1.262 1.023 2.26 2.09 1.585L12 20.099z\"></path></svg><span class=\"ipc-rating-star--rating\">8.7</span><span class=\"ipc-rating-star--voteCount\"> (<!-- -->1.3M<!-- -->)</span></span>,\n",
              " <span aria-label=\"IMDb rating: 8.7\" class=\"ipc-rating-star ipc-rating-star--base ipc-rating-star--imdb ratingGroup--imdb-rating\" data-testid=\"ratingGroup--imdb-rating\"><svg class=\"ipc-icon ipc-icon--star-inline\" fill=\"currentColor\" height=\"24\" role=\"presentation\" viewbox=\"0 0 24 24\" width=\"24\" xmlns=\"http://www.w3.org/2000/svg\"><path d=\"M12 20.1l5.82 3.682c1.066.675 2.37-.322 2.09-1.584l-1.543-6.926 5.146-4.667c.94-.85.435-2.465-.799-2.567l-6.773-.602L13.29.89a1.38 1.38 0 0 0-2.581 0l-2.65 6.53-6.774.602C.052 8.126-.453 9.74.486 10.59l5.147 4.666-1.542 6.926c-.28 1.262 1.023 2.26 2.09 1.585L12 20.099z\"></path></svg><span class=\"ipc-rating-star--rating\">8.7</span><span class=\"ipc-rating-star--voteCount\"> (<!-- -->1.1M<!-- -->)</span></span>,\n",
              " <span aria-label=\"IMDb rating: 8.7\" class=\"ipc-rating-star ipc-rating-star--base ipc-rating-star--imdb ratingGroup--imdb-rating\" data-testid=\"ratingGroup--imdb-rating\"><svg class=\"ipc-icon ipc-icon--star-inline\" fill=\"currentColor\" height=\"24\" role=\"presentation\" viewbox=\"0 0 24 24\" width=\"24\" xmlns=\"http://www.w3.org/2000/svg\"><path d=\"M12 20.1l5.82 3.682c1.066.675 2.37-.322 2.09-1.584l-1.543-6.926 5.146-4.667c.94-.85.435-2.465-.799-2.567l-6.773-.602L13.29.89a1.38 1.38 0 0 0-2.581 0l-2.65 6.53-6.774.602C.052 8.126-.453 9.74.486 10.59l5.147 4.666-1.542 6.926c-.28 1.262 1.023 2.26 2.09 1.585L12 20.099z\"></path></svg><span class=\"ipc-rating-star--rating\">8.7</span><span class=\"ipc-rating-star--voteCount\"> (<!-- -->2.1M<!-- -->)</span></span>,\n",
              " <span aria-label=\"IMDb rating: 8.6\" class=\"ipc-rating-star ipc-rating-star--base ipc-rating-star--imdb ratingGroup--imdb-rating\" data-testid=\"ratingGroup--imdb-rating\"><svg class=\"ipc-icon ipc-icon--star-inline\" fill=\"currentColor\" height=\"24\" role=\"presentation\" viewbox=\"0 0 24 24\" width=\"24\" xmlns=\"http://www.w3.org/2000/svg\"><path d=\"M12 20.1l5.82 3.682c1.066.675 2.37-.322 2.09-1.584l-1.543-6.926 5.146-4.667c.94-.85.435-2.465-.799-2.567l-6.773-.602L13.29.89a1.38 1.38 0 0 0-2.581 0l-2.65 6.53-6.774.602C.052 8.126-.453 9.74.486 10.59l5.147 4.666-1.542 6.926c-.28 1.262 1.023 2.26 2.09 1.585L12 20.099z\"></path></svg><span class=\"ipc-rating-star--rating\">8.6</span><span class=\"ipc-rating-star--voteCount\"> (<!-- -->1.8M<!-- -->)</span></span>,\n",
              " <span aria-label=\"IMDb rating: 8.6\" class=\"ipc-rating-star ipc-rating-star--base ipc-rating-star--imdb ratingGroup--imdb-rating\" data-testid=\"ratingGroup--imdb-rating\"><svg class=\"ipc-icon ipc-icon--star-inline\" fill=\"currentColor\" height=\"24\" role=\"presentation\" viewbox=\"0 0 24 24\" width=\"24\" xmlns=\"http://www.w3.org/2000/svg\"><path d=\"M12 20.1l5.82 3.682c1.066.675 2.37-.322 2.09-1.584l-1.543-6.926 5.146-4.667c.94-.85.435-2.465-.799-2.567l-6.773-.602L13.29.89a1.38 1.38 0 0 0-2.581 0l-2.65 6.53-6.774.602C.052 8.126-.453 9.74.486 10.59l5.147 4.666-1.542 6.926c-.28 1.262 1.023 2.26 2.09 1.585L12 20.099z\"></path></svg><span class=\"ipc-rating-star--rating\">8.6</span><span class=\"ipc-rating-star--voteCount\"> (<!-- -->504K<!-- -->)</span></span>,\n",
              " <span aria-label=\"IMDb rating: 8.6\" class=\"ipc-rating-star ipc-rating-star--base ipc-rating-star--imdb ratingGroup--imdb-rating\" data-testid=\"ratingGroup--imdb-rating\"><svg class=\"ipc-icon ipc-icon--star-inline\" fill=\"currentColor\" height=\"24\" role=\"presentation\" viewbox=\"0 0 24 24\" width=\"24\" xmlns=\"http://www.w3.org/2000/svg\"><path d=\"M12 20.1l5.82 3.682c1.066.675 2.37-.322 2.09-1.584l-1.543-6.926 5.146-4.667c.94-.85.435-2.465-.799-2.567l-6.773-.602L13.29.89a1.38 1.38 0 0 0-2.581 0l-2.65 6.53-6.774.602C.052 8.126-.453 9.74.486 10.59l5.147 4.666-1.542 6.926c-.28 1.262 1.023 2.26 2.09 1.585L12 20.099z\"></path></svg><span class=\"ipc-rating-star--rating\">8.6</span><span class=\"ipc-rating-star--voteCount\"> (<!-- -->371K<!-- -->)</span></span>,\n",
              " <span aria-label=\"IMDb rating: 8.6\" class=\"ipc-rating-star ipc-rating-star--base ipc-rating-star--imdb ratingGroup--imdb-rating\" data-testid=\"ratingGroup--imdb-rating\"><svg class=\"ipc-icon ipc-icon--star-inline\" fill=\"currentColor\" height=\"24\" role=\"presentation\" viewbox=\"0 0 24 24\" width=\"24\" xmlns=\"http://www.w3.org/2000/svg\"><path d=\"M12 20.1l5.82 3.682c1.066.675 2.37-.322 2.09-1.584l-1.543-6.926 5.146-4.667c.94-.85.435-2.465-.799-2.567l-6.773-.602L13.29.89a1.38 1.38 0 0 0-2.581 0l-2.65 6.53-6.774.602C.052 8.126-.453 9.74.486 10.59l5.147 4.666-1.542 6.926c-.28 1.262 1.023 2.26 2.09 1.585L12 20.099z\"></path></svg><span class=\"ipc-rating-star--rating\">8.6</span><span class=\"ipc-rating-star--voteCount\"> (<!-- -->1.6M<!-- -->)</span></span>,\n",
              " <span aria-label=\"IMDb rating: 8.6\" class=\"ipc-rating-star ipc-rating-star--base ipc-rating-star--imdb ratingGroup--imdb-rating\" data-testid=\"ratingGroup--imdb-rating\"><svg class=\"ipc-icon ipc-icon--star-inline\" fill=\"currentColor\" height=\"24\" role=\"presentation\" viewbox=\"0 0 24 24\" width=\"24\" xmlns=\"http://www.w3.org/2000/svg\"><path d=\"M12 20.1l5.82 3.682c1.066.675 2.37-.322 2.09-1.584l-1.543-6.926 5.146-4.667c.94-.85.435-2.465-.799-2.567l-6.773-.602L13.29.89a1.38 1.38 0 0 0-2.581 0l-2.65 6.53-6.774.602C.052 8.126-.453 9.74.486 10.59l5.147 4.666-1.542 6.926c-.28 1.262 1.023 2.26 2.09 1.585L12 20.099z\"></path></svg><span class=\"ipc-rating-star--rating\">8.6</span><span class=\"ipc-rating-star--voteCount\"> (<!-- -->1.5M<!-- -->)</span></span>,\n",
              " <span aria-label=\"IMDb rating: 8.6\" class=\"ipc-rating-star ipc-rating-star--base ipc-rating-star--imdb ratingGroup--imdb-rating\" data-testid=\"ratingGroup--imdb-rating\"><svg class=\"ipc-icon ipc-icon--star-inline\" fill=\"currentColor\" height=\"24\" role=\"presentation\" viewbox=\"0 0 24 24\" width=\"24\" xmlns=\"http://www.w3.org/2000/svg\"><path d=\"M12 20.1l5.82 3.682c1.066.675 2.37-.322 2.09-1.584l-1.543-6.926 5.146-4.667c.94-.85.435-2.465-.799-2.567l-6.773-.602L13.29.89a1.38 1.38 0 0 0-2.581 0l-2.65 6.53-6.774.602C.052 8.126-.453 9.74.486 10.59l5.147 4.666-1.542 6.926c-.28 1.262 1.023 2.26 2.09 1.585L12 20.099z\"></path></svg><span class=\"ipc-rating-star--rating\">8.6</span><span class=\"ipc-rating-star--voteCount\"> (<!-- -->811K<!-- -->)</span></span>]"
            ]
          },
          "metadata": {},
          "execution_count": 10
        }
      ]
    },
    {
      "cell_type": "code",
      "source": [
        "ratings= []\n",
        "for rating in scraped_ratings:\n",
        "    rating = rating.get_text().replace('\\n', '').replace('\\xa0', '')\n",
        "\n",
        "    ratings.append(rating)\n",
        "ratings"
      ],
      "metadata": {
        "colab": {
          "base_uri": "https://localhost:8080/"
        },
        "id": "ikBaWLlf9v9E",
        "outputId": "d21dfbdc-9de1-4c6b-e597-7257cc912519"
      },
      "execution_count": 13,
      "outputs": [
        {
          "output_type": "execute_result",
          "data": {
            "text/plain": [
              "['9.3(2.9M)',\n",
              " '9.2(2M)',\n",
              " '9.0(2.9M)',\n",
              " '9.0(1.4M)',\n",
              " '9.0(881K)',\n",
              " '9.0(1.5M)',\n",
              " '9.0(2M)',\n",
              " '8.9(2.3M)',\n",
              " '8.9(2M)',\n",
              " '8.8(822K)',\n",
              " '8.8(2.3M)',\n",
              " '8.8(1.8M)',\n",
              " '8.8(2.4M)',\n",
              " '8.8(2.6M)',\n",
              " '8.7(1.4M)',\n",
              " '8.7(2.1M)',\n",
              " '8.7(1.3M)',\n",
              " '8.7(1.1M)',\n",
              " '8.7(2.1M)',\n",
              " '8.6(1.8M)',\n",
              " '8.6(504K)',\n",
              " '8.6(371K)',\n",
              " '8.6(1.6M)',\n",
              " '8.6(1.5M)',\n",
              " '8.6(811K)']"
            ]
          },
          "metadata": {},
          "execution_count": 13
        }
      ]
    },
    {
      "cell_type": "code",
      "source": [
        "df = pd.DataFrame()\n",
        "df['movies']= movies\n",
        "df['ratings_views']= ratings\n",
        "df.to_csv(\" movies.csv\", header=True, index=False)\n",
        "df.head(10).style.hide(axis=\"index\")\n"
      ],
      "metadata": {
        "colab": {
          "base_uri": "https://localhost:8080/",
          "height": 363
        },
        "id": "dCoulljGBKaK",
        "outputId": "f6fb898b-9736-489d-bdc5-678c2a23ab40"
      },
      "execution_count": 18,
      "outputs": [
        {
          "output_type": "execute_result",
          "data": {
            "text/plain": [
              "<pandas.io.formats.style.Styler at 0x7a358f5ba2c0>"
            ],
            "text/html": [
              "<style type=\"text/css\">\n",
              "</style>\n",
              "<table id=\"T_3eac8\" class=\"dataframe\">\n",
              "  <thead>\n",
              "    <tr>\n",
              "      <th id=\"T_3eac8_level0_col0\" class=\"col_heading level0 col0\" >movies</th>\n",
              "      <th id=\"T_3eac8_level0_col1\" class=\"col_heading level0 col1\" >ratings_views</th>\n",
              "    </tr>\n",
              "  </thead>\n",
              "  <tbody>\n",
              "    <tr>\n",
              "      <td id=\"T_3eac8_row0_col0\" class=\"data row0 col0\" >1. The Shawshank Redemption</td>\n",
              "      <td id=\"T_3eac8_row0_col1\" class=\"data row0 col1\" >9.3(2.9M)</td>\n",
              "    </tr>\n",
              "    <tr>\n",
              "      <td id=\"T_3eac8_row1_col0\" class=\"data row1 col0\" >2. The Godfather</td>\n",
              "      <td id=\"T_3eac8_row1_col1\" class=\"data row1 col1\" >9.2(2M)</td>\n",
              "    </tr>\n",
              "    <tr>\n",
              "      <td id=\"T_3eac8_row2_col0\" class=\"data row2 col0\" >3. The Dark Knight</td>\n",
              "      <td id=\"T_3eac8_row2_col1\" class=\"data row2 col1\" >9.0(2.9M)</td>\n",
              "    </tr>\n",
              "    <tr>\n",
              "      <td id=\"T_3eac8_row3_col0\" class=\"data row3 col0\" >4. The Godfather Part II</td>\n",
              "      <td id=\"T_3eac8_row3_col1\" class=\"data row3 col1\" >9.0(1.4M)</td>\n",
              "    </tr>\n",
              "    <tr>\n",
              "      <td id=\"T_3eac8_row4_col0\" class=\"data row4 col0\" >5. 12 Angry Men</td>\n",
              "      <td id=\"T_3eac8_row4_col1\" class=\"data row4 col1\" >9.0(881K)</td>\n",
              "    </tr>\n",
              "    <tr>\n",
              "      <td id=\"T_3eac8_row5_col0\" class=\"data row5 col0\" >6. Schindler's List</td>\n",
              "      <td id=\"T_3eac8_row5_col1\" class=\"data row5 col1\" >9.0(1.5M)</td>\n",
              "    </tr>\n",
              "    <tr>\n",
              "      <td id=\"T_3eac8_row6_col0\" class=\"data row6 col0\" >7. The Lord of the Rings: The Return of the King</td>\n",
              "      <td id=\"T_3eac8_row6_col1\" class=\"data row6 col1\" >9.0(2M)</td>\n",
              "    </tr>\n",
              "    <tr>\n",
              "      <td id=\"T_3eac8_row7_col0\" class=\"data row7 col0\" >8. Pulp Fiction</td>\n",
              "      <td id=\"T_3eac8_row7_col1\" class=\"data row7 col1\" >8.9(2.3M)</td>\n",
              "    </tr>\n",
              "    <tr>\n",
              "      <td id=\"T_3eac8_row8_col0\" class=\"data row8 col0\" >9. The Lord of the Rings: The Fellowship of the Ring</td>\n",
              "      <td id=\"T_3eac8_row8_col1\" class=\"data row8 col1\" >8.9(2M)</td>\n",
              "    </tr>\n",
              "    <tr>\n",
              "      <td id=\"T_3eac8_row9_col0\" class=\"data row9 col0\" >10. The Good, the Bad and the Ugly</td>\n",
              "      <td id=\"T_3eac8_row9_col1\" class=\"data row9 col1\" >8.8(822K)</td>\n",
              "    </tr>\n",
              "  </tbody>\n",
              "</table>\n"
            ]
          },
          "metadata": {},
          "execution_count": 18
        }
      ]
    },
    {
      "cell_type": "code",
      "source": [],
      "metadata": {
        "id": "qp0McUVEio1v"
      },
      "execution_count": null,
      "outputs": []
    }
  ],
  "metadata": {
    "colab": {
      "provenance": [],
      "authorship_tag": "ABX9TyN1eq4lw2ZDrq94ZeNt3Kjn",
      "include_colab_link": true
    },
    "kernelspec": {
      "display_name": "Python 3",
      "name": "python3"
    },
    "language_info": {
      "name": "python"
    }
  },
  "nbformat": 4,
  "nbformat_minor": 0
}